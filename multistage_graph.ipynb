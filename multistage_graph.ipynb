{
 "cells": [
  {
   "cell_type": "code",
   "execution_count": 1,
   "metadata": {},
   "outputs": [],
   "source": [
    "import collections as ct\n",
    "import graphviz as gv"
   ]
  },
  {
   "cell_type": "markdown",
   "metadata": {},
   "source": [
    "# Algoritmo de menor distância"
   ]
  },
  {
   "cell_type": "code",
   "execution_count": 2,
   "metadata": {},
   "outputs": [],
   "source": [
    "INF=999999999999 # valor arbitrário para infinito\n",
    "\n",
    "def shortest_dist(graph, final_node):\n",
    "    dist=[0]*len(graph) # setando vetor de distância\n",
    "    for u in reversed(sorted(graph.keys())):\n",
    "        dist[u]=INF # distância infinita caso não conhecida\n",
    "        for weight, node in graph[u]:\n",
    "            print(u, '--', node, '=', weight)\n",
    "            dist[u]=min(dist[u], weight+dist[node]) # pegamos a menor distância dentre a menor conhecida\n",
    "                                                    # e a nova explorada\n",
    "\n",
    "    return dist[0] # retornamos menor distância do início "
   ]
  },
  {
   "cell_type": "markdown",
   "metadata": {},
   "source": [
    "# Implementando lista de adjagência"
   ]
  },
  {
   "cell_type": "code",
   "execution_count": 3,
   "metadata": {
    "scrolled": true
   },
   "outputs": [
    {
     "name": "stdout",
     "output_type": "stream",
     "text": [
      "26 -- 29 = 496\n",
      "26 -- 30 = 316\n",
      "25 -- 27 = 397\n",
      "25 -- 29 = 206\n",
      "25 -- 30 = 480\n",
      "24 -- 28 = 750\n",
      "24 -- 27 = 233\n",
      "24 -- 30 = 669\n",
      "23 -- 28 = 680\n",
      "23 -- 27 = 259\n",
      "22 -- 25 = 725\n",
      "22 -- 26 = 388\n",
      "21 -- 24 = 435\n",
      "21 -- 25 = 434\n",
      "21 -- 26 = 495\n",
      "20 -- 23 = 659\n",
      "20 -- 24 = 689\n",
      "19 -- 23 = 532\n",
      "19 -- 24 = 717\n",
      "18 -- 21 = 635\n",
      "18 -- 22 = 352\n",
      "17 -- 20 = 545\n",
      "17 -- 21 = 501\n",
      "17 -- 22 = 601\n",
      "16 -- 19 = 527\n",
      "16 -- 20 = 256\n",
      "15 -- 19 = 465\n",
      "15 -- 20 = 593\n",
      "14 -- 17 = 635\n",
      "14 -- 18 = 199\n",
      "13 -- 16 = 613\n",
      "13 -- 17 = 539\n",
      "12 -- 15 = 438\n",
      "12 -- 17 = 567\n",
      "11 -- 15 = 478\n",
      "11 -- 16 = 598\n",
      "10 -- 13 = 421\n",
      "10 -- 14 = 555\n",
      "9 -- 13 = 288\n",
      "9 -- 14 = 714\n",
      "8 -- 12 = 667\n",
      "8 -- 13 = 424\n",
      "7 -- 11 = 347\n",
      "7 -- 12 = 635\n",
      "6 -- 9 = 576\n",
      "6 -- 10 = 724\n",
      "5 -- 7 = 402\n",
      "5 -- 8 = 493\n",
      "5 -- 9 = 609\n",
      "4 -- 7 = 669\n",
      "3 -- 6 = 275\n",
      "3 -- 7 = 528\n",
      "2 -- 4 = 648\n",
      "2 -- 5 = 748\n",
      "2 -- 6 = 630\n",
      "1 -- 4 = 561\n",
      "0 -- 4 = 494\n",
      "999999999999\n"
     ]
    }
   ],
   "source": [
    "graph = ct.defaultdict(list)\n",
    "\n",
    "# implementamos a lista de adjacência por meio de vetores\n",
    "# para cada vetor temos suas conexões, primeiro valor é qual ele se conecta e segundo o peso dessa conexão\n",
    "graph[0] = [(494, 4)]\n",
    "graph[1] = [(561, 4)]\n",
    "graph[2] = [(648, 4), (748, 5), (630, 6)]\n",
    "graph[3] = [(275, 6), (528, 7)]\n",
    "graph[4] = [(669, 7)]\n",
    "graph[5] = [(402, 7), (493, 8), (609, 9)]\n",
    "graph[6] = [(576, 9), (724, 10)]\n",
    "graph[7] = [(452, 9), (320, 10)]\n",
    "graph[7] = [(347, 11), (635, 12)]\n",
    "graph[8] = [(667, 12), (424, 13)]\n",
    "graph[9] = [(288, 13), (714, 14)]\n",
    "graph[10] = [(421, 13),  (555, 14)]\n",
    "graph[11] = [(478, 15), (598, 16)]\n",
    "graph[12] = [(438, 15), (567, 17)]\n",
    "graph[13] = [(613, 16), (539, 17)]\n",
    "graph[14] = [(635, 17), (199, 18)]\n",
    "graph[15] = [(465, 19), (593, 20)]\n",
    "graph[16] = [(527, 19), (256, 20)]\n",
    "graph[17] = [(545, 20), (501, 21), (601, 22)]\n",
    "graph[18] = [(635, 21), (352, 22)]\n",
    "graph[19] = [(532, 23), (717, 24)]\n",
    "graph[20] = [(659, 23), (689, 24)]\n",
    "graph[21] = [(435, 24), (434, 25), (495, 26)]\n",
    "graph[22] = [(725, 25), (388, 26)]\n",
    "graph[23] = [(680, 28), (259, 27)]\n",
    "graph[24] = [(750, 28), (233, 27), (669, 30)]\n",
    "graph[25] = [(397, 27), (206, 29), (480, 30)]\n",
    "graph[26] = [(496, 29), (316, 30)]\n",
    "graph[27] = []\n",
    "graph[28] = []\n",
    "graph[29] = []\n",
    "graph[30] = []\n",
    "\n",
    "print(shortest_dist(graph, graph[-1]))"
   ]
  },
  {
   "cell_type": "code",
   "execution_count": 8,
   "metadata": {},
   "outputs": [
    {
     "name": "stdout",
     "output_type": "stream",
     "text": [
      "PATH:\n",
      "0[0]\n"
     ]
    }
   ],
   "source": [
    "INF=999999999999\n",
    "\n",
    "dist=[0]*len(graph)\n",
    "path=[0]*len(graph)\n",
    "\n",
    "for u in reversed(sorted(graph.keys())):\n",
    "    dist[u]=INF\n",
    "    for weight, node in graph[u]:\n",
    "        # print(u, '--', node, '=', weight)\n",
    "        if (dist[u] > weight+dist[node]):\n",
    "            # print('u = ', u, ' node = ', node, ' weight = ', weight, ' dist[u] = ', dist[u], ' dist[node] = ', dist[node])\n",
    "            dist[u]=weight+dist[node]\n",
    "            path[u]=node\n",
    "\n",
    "# identificar o menor caminho para plotagem\n",
    "print('PATH:\\n0', end='')\n",
    "i = 0\n",
    "path_list = []\n",
    "path_list.append(0)\n",
    "final_nodes = [26, 27, 28, 29, 30]\n",
    "print(path_list)"
   ]
  },
  {
   "cell_type": "code",
   "execution_count": null,
   "metadata": {
    "scrolled": true
   },
   "outputs": [],
   "source": [
    "dot = gv.Digraph(comment='Multistage Graph')\n",
    "cont = 0\n",
    "for nodes in graph:\n",
    "    temp = []\n",
    "    temp.append(nodes)\n",
    "    print(nodes)\n",
    "    if(set(temp).intersection(path_list)):\n",
    "        dot.node(str(nodes), str(nodes), color='blue')\n",
    "    else:\n",
    "        dot.node(str(nodes), str(nodes), color='red')\n",
    "    cont+=1\n",
    "    for v,u in graph[nodes]:\n",
    "        if(nodes in path_list and u in path_list):\n",
    "            dot.edge(str(nodes), str(u), label=str(v), color='blue')\n",
    "        else:\n",
    "            dot.edge(str(nodes), str(u), label=str(v))"
   ]
  },
  {
   "cell_type": "code",
   "execution_count": null,
   "metadata": {},
   "outputs": [],
   "source": [
    "print(dot.source)"
   ]
  },
  {
   "cell_type": "code",
   "execution_count": null,
   "metadata": {},
   "outputs": [],
   "source": [
    "dot.attr(rankdir='LR')\n",
    "dot"
   ]
  },
  {
   "cell_type": "code",
   "execution_count": null,
   "metadata": {},
   "outputs": [],
   "source": [
    "graph['Seattle'] = [(494, 'Boise')]\n",
    "graph['Newpoet'] = [(561, 'Boise')]\n",
    "graph['San Francisco'] = [(648, 'Boise'), (748, 'Salt Lake'), (630, 'Las Vegas')]\n",
    "graph['USC'] = [(275, 'Las Vegas'), (528, 'Tucson')]\n",
    "graph['Boise'] = [(669, 'Casper')]\n",
    "graph['Salt Lake'] = [(402, 'Casper'), (493, 'Denver'), (609, 'Albuquerque')]\n",
    "graph['Las Vegas'] = [(576, 'Albuquerque'), (724, 'El Paso')]\n",
    "graph['Tucson'] = [(452, 'Albuquerque'), (320, 'El Paso')]\n",
    "graph['Casper'] = [(347, 'Pierre'), (635, 'Lincoln')]\n",
    "graph['Denver'] = [(667, 'Lincoln'), (424, 'Amarillo')]\n",
    "graph['Albuquerque'] = [(288, 'Amarillo'), (714, 'San Antonio')]\n",
    "graph['El Paso'] = [(421, 'Amarillo'),  (555, 'San Antonio')]\n",
    "graph['Pierre'] = [(478, 'Minneapolis'), (598, 'Kansas City')]\n",
    "graph['Lincoln'] = [(438, 'Minneapolis'), (567, 'Ft. Smith')]\n",
    "graph['Amarillo'] = [(613, 'Kansas City'), (539, 'Ft. Smith')]\n",
    "graph['San Antonio'] = [(635, 'Ft. Smith'), (199, 'Houston')]\n",
    "graph['Minneapolis'] = [(465, 'Chicago'), (593, 'St. Louis')]\n",
    "graph['Kansas City'] = [(527, 'Chicago'), (256, 'St. Louis')]\n",
    "graph['Ft. Smith'] = [(545, 'St. Louis'), (501, 'Nashville'), (601, 'New Orleans')]\n",
    "graph['Houston'] = [(635, 'Nashville'), (352, 'New Orleans')]\n",
    "graph['Chicago'] = [(532, 'Pittsburg'), (717, 'Roanoke')]\n",
    "graph['St. Louis'] = [(659, 'Pittsburg'), (689, 'Roanoke')]\n",
    "graph['Nashville'] = [(435, 'Roanoke'), (434, 'Charlotte'), (495, 'Tallahassee')]\n",
    "graph['New Orleans'] = [(725, 'Charlotte'), (388, 'Tallahassee')]\n",
    "graph['Pittsburg'] = [(680, 'MIT'), (259, 'Washington')]\n",
    "graph['Roanoke'] = [(750, 'MIT'), (233, 'Washington'), (669, 'Daytona Beach')]\n",
    "graph['Charlotte'] = [(397, 'Washington'), (206, 'Wilmington'), (480, 'Daytona Beach')]\n",
    "graph['Tallahassee'] = [(496, 'Wilmington'), (316, 'Daytona Beach')]"
   ]
  },
  {
   "cell_type": "code",
   "execution_count": null,
   "metadata": {},
   "outputs": [],
   "source": [
    "graph[0] = [(494, 4)]\n",
    "graph[1] = [(561, 4)]\n",
    "graph[2] = [(648, 4), (748, 5), (630, 6)]\n",
    "graph[3] = [(275, 6), (528, 7)]\n",
    "graph[4] = [(669, 7)]\n",
    "graph[5] = [(402, 7), (493, 8), (609, 9)]\n",
    "graph[6] = [(576, 9), (724, 10)]\n",
    "graph[7] = [(452, 9), (320, 10)]\n",
    "graph[7] = [(347, 11), (635, 12)]\n",
    "graph[8] = [(667, 12), (424, 13)]\n",
    "graph[9] = [(288, 13), (714, 14)]\n",
    "graph[10] = [(421, 13),  (555, 14)]\n",
    "graph[11] = [(478, 15), (598, 16)]\n",
    "graph[12] = [(438, 15), (567, 17)]\n",
    "graph[13] = [(613, 16), (539, 17)]\n",
    "graph[14] = [(635, 17), (199, 18)]\n",
    "graph[15] = [(465, 19), (593, 20)]\n",
    "graph[16] = [(527, 19), (256, 20)]\n",
    "graph[17] = [(545, 20), (501, 21), (601, 22)]\n",
    "graph[18] = [(635, 21), (352, 22)]\n",
    "graph[19] = [(532, 23), (717, 24)]\n",
    "graph[20] = [(659, 23), (689, 24)]\n",
    "graph[21] = [(435, 24), (434, 25), (495, 26)]\n",
    "graph[22] = [(725, 25), (388, 26)]\n",
    "graph[23] = [(680, 28), (259, 27)]\n",
    "graph[24] = [(750, 28), (233, 27), (669, 30)]\n",
    "graph[25] = [(397, 27), (206, 29), (480, 30)]\n",
    "graph[26] = [(496, 29), (316, 30)]"
   ]
  }
 ],
 "metadata": {
  "kernelspec": {
   "display_name": "Python 3",
   "language": "python",
   "name": "python3"
  },
  "language_info": {
   "codemirror_mode": {
    "name": "ipython",
    "version": 3
   },
   "file_extension": ".py",
   "mimetype": "text/x-python",
   "name": "python",
   "nbconvert_exporter": "python",
   "pygments_lexer": "ipython3",
   "version": "3.7.3"
  }
 },
 "nbformat": 4,
 "nbformat_minor": 2
}
