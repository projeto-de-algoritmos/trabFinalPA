{
 "cells": [
  {
   "cell_type": "code",
   "execution_count": 2,
   "metadata": {},
   "outputs": [],
   "source": [
    "import collections as ct\n",
    "import graphviz as gv"
   ]
  },
  {
   "cell_type": "markdown",
   "metadata": {},
   "source": [
    "# Algoritmo de menor distância"
   ]
  },
  {
   "cell_type": "code",
   "execution_count": 3,
   "metadata": {},
   "outputs": [],
   "source": [
    "INF=999999999999 # valor arbitrário para infinito\n",
    "\n",
    "def shortest_dist(graph, final_node):\n",
    "    dist=[0]*len(graph) # setando vetor de distância\n",
    "    for u in reversed(sorted(graph.keys())):\n",
    "        dist[u]=INF # distância infinita caso não conhecida\n",
    "        for node, weight in graph[u]:\n",
    "            print(u, '--', node, '=', weight)\n",
    "            dist[u]=min(dist[u], weight+dist[node]) # pegamos a menor distância dentre a menor conhecida\n",
    "                                                    # e a nova explorada\n",
    "\n",
    "    return dist[0] # retornamos menor distância do início "
   ]
  },
  {
   "cell_type": "markdown",
   "metadata": {},
   "source": [
    "# Implementando lista de adjagência"
   ]
  },
  {
   "cell_type": "code",
   "execution_count": 4,
   "metadata": {
    "scrolled": true
   },
   "outputs": [
    {
     "name": "stdout",
     "output_type": "stream",
     "text": [
      "6 -- 7 = 2\n",
      "5 -- 7 = 13\n",
      "4 -- 7 = 18\n",
      "3 -- 6 = 2\n",
      "2 -- 4 = 9\n",
      "2 -- 5 = 5\n",
      "2 -- 6 = 16\n",
      "1 -- 4 = 4\n",
      "1 -- 5 = 11\n",
      "0 -- 1 = 1\n",
      "0 -- 2 = 2\n",
      "0 -- 3 = 5\n",
      "9\n"
     ]
    }
   ],
   "source": [
    "graph = ct.defaultdict(list)\n",
    "\n",
    "# implementamos a lista de adjacência por meio de vetores\n",
    "# para cada vetor temos suas conexões, primeiro valor é qual ele se conecta e segundo o peso dessa conexão\n",
    "graph[0]=[(1,1), (2,2), (3,5)]\n",
    "graph[1]=[(4,4), (5,11)]\n",
    "graph[2]=[(4,9), (5,5), (6,16)]\n",
    "graph[3]=[(6,2)]\n",
    "graph[4]=[(7,18)]\n",
    "graph[5]=[(7,13)]\n",
    "graph[6]=[(7,2)]\n",
    "\n",
    "\n",
    "print(shortest_dist(graph, graph[-1]))"
   ]
  },
  {
   "cell_type": "code",
   "execution_count": 5,
   "metadata": {},
   "outputs": [
    {
     "name": "stdout",
     "output_type": "stream",
     "text": [
      "PATH:\n",
      "0 --  3 --  6 --  7\n"
     ]
    }
   ],
   "source": [
    "INF=999999999999\n",
    "\n",
    "dist=[0]*len(graph)\n",
    "path=[0]*len(graph)\n",
    "\n",
    "for u in reversed(sorted(graph.keys())):\n",
    "    dist[u]=INF\n",
    "    for node, weight in graph[u]:\n",
    "        # print(u, '--', node, '=', weight)\n",
    "        if (dist[u] > weight+dist[node]):\n",
    "            # print('u = ', u, ' node = ', node, ' weight = ', weight, ' dist[u] = ', dist[u], ' dist[node] = ', dist[node])\n",
    "            dist[u]=weight+dist[node]\n",
    "            path[u]=node\n",
    "\n",
    "del graph[-1]\n",
    "# identificar o menor caminho para plotagem\n",
    "print('PATH:\\n0', end='')\n",
    "i = 0\n",
    "graph[7]=[]\n",
    "path_list = []\n",
    "path_list.append(0)\n",
    "while (i != 7):\n",
    "    i = path[i]\n",
    "    path_list.append(i)\n",
    "    print(' -- ', i, end='')\n",
    "print()"
   ]
  },
  {
   "cell_type": "code",
   "execution_count": 19,
   "metadata": {
    "scrolled": true
   },
   "outputs": [
    {
     "name": "stdout",
     "output_type": "stream",
     "text": [
      "0\n",
      "1\n",
      "2\n",
      "3\n",
      "4\n",
      "5\n",
      "6\n",
      "7\n"
     ]
    }
   ],
   "source": [
    "dot = gv.Digraph(comment='Multistage Graph')\n",
    "cont = 0\n",
    "for nodes in graph:\n",
    "    temp = []\n",
    "    temp.append(nodes)\n",
    "    print(nodes)\n",
    "    if(set(temp).intersection(path_list)):\n",
    "        dot.node(str(nodes), str(nodes), color='blue')\n",
    "    else:\n",
    "        dot.node(str(nodes), str(nodes), color='red')\n",
    "    cont+=1\n",
    "    for u,v in graph[nodes]:\n",
    "        if(nodes in path_list and u in path_list):\n",
    "            dot.edge(str(nodes), str(u), label=str(v), color='blue')\n",
    "        else:\n",
    "            dot.edge(str(nodes), str(u), label=str(v))"
   ]
  },
  {
   "cell_type": "code",
   "execution_count": 20,
   "metadata": {},
   "outputs": [
    {
     "name": "stdout",
     "output_type": "stream",
     "text": [
      "// Multistage Graph\n",
      "digraph {\n",
      "\t0 [label=0 color=blue]\n",
      "\t0 -> 1 [label=1]\n",
      "\t0 -> 2 [label=2]\n",
      "\t0 -> 3 [label=5 color=blue]\n",
      "\t1 [label=1 color=red]\n",
      "\t1 -> 4 [label=4]\n",
      "\t1 -> 5 [label=11]\n",
      "\t2 [label=2 color=red]\n",
      "\t2 -> 4 [label=9]\n",
      "\t2 -> 5 [label=5]\n",
      "\t2 -> 6 [label=16]\n",
      "\t3 [label=3 color=blue]\n",
      "\t3 -> 6 [label=2 color=blue]\n",
      "\t4 [label=4 color=red]\n",
      "\t4 -> 7 [label=18]\n",
      "\t5 [label=5 color=red]\n",
      "\t5 -> 7 [label=13]\n",
      "\t6 [label=6 color=blue]\n",
      "\t6 -> 7 [label=2 color=blue]\n",
      "\t7 [label=7 color=blue]\n",
      "}\n"
     ]
    }
   ],
   "source": [
    "print(dot.source)"
   ]
  },
  {
   "cell_type": "code",
   "execution_count": 21,
   "metadata": {},
   "outputs": [
    {
     "data": {
      "image/svg+xml": [
       "<?xml version=\"1.0\" encoding=\"UTF-8\" standalone=\"no\"?>\r\n",
       "<!DOCTYPE svg PUBLIC \"-//W3C//DTD SVG 1.1//EN\"\r\n",
       " \"http://www.w3.org/Graphics/SVG/1.1/DTD/svg11.dtd\">\r\n",
       "<!-- Generated by graphviz version 2.38.0 (20140413.2041)\r\n",
       " -->\r\n",
       "<!-- Title: %3 Pages: 1 -->\r\n",
       "<svg width=\"219pt\" height=\"305pt\"\r\n",
       " viewBox=\"0.00 0.00 219.00 305.00\" xmlns=\"http://www.w3.org/2000/svg\" xmlns:xlink=\"http://www.w3.org/1999/xlink\">\r\n",
       "<g id=\"graph0\" class=\"graph\" transform=\"scale(1 1) rotate(0) translate(4 301)\">\r\n",
       "<title>%3</title>\r\n",
       "<polygon fill=\"white\" stroke=\"none\" points=\"-4,4 -4,-301 215,-301 215,4 -4,4\"/>\r\n",
       "<!-- 0 -->\r\n",
       "<g id=\"node1\" class=\"node\"><title>0</title>\r\n",
       "<ellipse fill=\"none\" stroke=\"blue\" cx=\"112\" cy=\"-279\" rx=\"27\" ry=\"18\"/>\r\n",
       "<text text-anchor=\"middle\" x=\"112\" y=\"-275.3\" font-family=\"Times New Roman,serif\" font-size=\"14.00\">0</text>\r\n",
       "</g>\r\n",
       "<!-- 1 -->\r\n",
       "<g id=\"node2\" class=\"node\"><title>1</title>\r\n",
       "<ellipse fill=\"none\" stroke=\"red\" cx=\"40\" cy=\"-192\" rx=\"27\" ry=\"18\"/>\r\n",
       "<text text-anchor=\"middle\" x=\"40\" y=\"-188.3\" font-family=\"Times New Roman,serif\" font-size=\"14.00\">1</text>\r\n",
       "</g>\r\n",
       "<!-- 0&#45;&gt;1 -->\r\n",
       "<g id=\"edge1\" class=\"edge\"><title>0&#45;&gt;1</title>\r\n",
       "<path fill=\"none\" stroke=\"black\" d=\"M99.1278,-262.804C88.0702,-249.75 71.9641,-230.735 59.353,-215.847\"/>\r\n",
       "<polygon fill=\"black\" stroke=\"black\" points=\"61.8949,-213.433 52.7607,-208.065 56.5535,-217.957 61.8949,-213.433\"/>\r\n",
       "<text text-anchor=\"middle\" x=\"84.5\" y=\"-231.8\" font-family=\"Times New Roman,serif\" font-size=\"14.00\">1</text>\r\n",
       "</g>\r\n",
       "<!-- 2 -->\r\n",
       "<g id=\"node3\" class=\"node\"><title>2</title>\r\n",
       "<ellipse fill=\"none\" stroke=\"red\" cx=\"112\" cy=\"-192\" rx=\"27\" ry=\"18\"/>\r\n",
       "<text text-anchor=\"middle\" x=\"112\" y=\"-188.3\" font-family=\"Times New Roman,serif\" font-size=\"14.00\">2</text>\r\n",
       "</g>\r\n",
       "<!-- 0&#45;&gt;2 -->\r\n",
       "<g id=\"edge2\" class=\"edge\"><title>0&#45;&gt;2</title>\r\n",
       "<path fill=\"none\" stroke=\"black\" d=\"M112,-260.799C112,-249.163 112,-233.548 112,-220.237\"/>\r\n",
       "<polygon fill=\"black\" stroke=\"black\" points=\"115.5,-220.175 112,-210.175 108.5,-220.175 115.5,-220.175\"/>\r\n",
       "<text text-anchor=\"middle\" x=\"115.5\" y=\"-231.8\" font-family=\"Times New Roman,serif\" font-size=\"14.00\">2</text>\r\n",
       "</g>\r\n",
       "<!-- 3 -->\r\n",
       "<g id=\"node4\" class=\"node\"><title>3</title>\r\n",
       "<ellipse fill=\"none\" stroke=\"blue\" cx=\"184\" cy=\"-192\" rx=\"27\" ry=\"18\"/>\r\n",
       "<text text-anchor=\"middle\" x=\"184\" y=\"-188.3\" font-family=\"Times New Roman,serif\" font-size=\"14.00\">3</text>\r\n",
       "</g>\r\n",
       "<!-- 0&#45;&gt;3 -->\r\n",
       "<g id=\"edge3\" class=\"edge\"><title>0&#45;&gt;3</title>\r\n",
       "<path fill=\"none\" stroke=\"blue\" d=\"M124.872,-262.804C135.93,-249.75 152.036,-230.735 164.647,-215.847\"/>\r\n",
       "<polygon fill=\"blue\" stroke=\"blue\" points=\"167.446,-217.957 171.239,-208.065 162.105,-213.433 167.446,-217.957\"/>\r\n",
       "<text text-anchor=\"middle\" x=\"155.5\" y=\"-231.8\" font-family=\"Times New Roman,serif\" font-size=\"14.00\">5</text>\r\n",
       "</g>\r\n",
       "<!-- 4 -->\r\n",
       "<g id=\"node5\" class=\"node\"><title>4</title>\r\n",
       "<ellipse fill=\"none\" stroke=\"red\" cx=\"99\" cy=\"-105\" rx=\"27\" ry=\"18\"/>\r\n",
       "<text text-anchor=\"middle\" x=\"99\" y=\"-101.3\" font-family=\"Times New Roman,serif\" font-size=\"14.00\">4</text>\r\n",
       "</g>\r\n",
       "<!-- 1&#45;&gt;4 -->\r\n",
       "<g id=\"edge4\" class=\"edge\"><title>1&#45;&gt;4</title>\r\n",
       "<path fill=\"none\" stroke=\"black\" d=\"M42.9601,-173.699C45.3014,-163.529 49.323,-150.788 56,-141 60.2513,-134.768 65.9299,-129.071 71.7634,-124.166\"/>\r\n",
       "<polygon fill=\"black\" stroke=\"black\" points=\"73.9534,-126.897 79.6945,-117.992 69.6535,-121.373 73.9534,-126.897\"/>\r\n",
       "<text text-anchor=\"middle\" x=\"59.5\" y=\"-144.8\" font-family=\"Times New Roman,serif\" font-size=\"14.00\">4</text>\r\n",
       "</g>\r\n",
       "<!-- 5 -->\r\n",
       "<g id=\"node6\" class=\"node\"><title>5</title>\r\n",
       "<ellipse fill=\"none\" stroke=\"red\" cx=\"27\" cy=\"-105\" rx=\"27\" ry=\"18\"/>\r\n",
       "<text text-anchor=\"middle\" x=\"27\" y=\"-101.3\" font-family=\"Times New Roman,serif\" font-size=\"14.00\">5</text>\r\n",
       "</g>\r\n",
       "<!-- 1&#45;&gt;5 -->\r\n",
       "<g id=\"edge5\" class=\"edge\"><title>1&#45;&gt;5</title>\r\n",
       "<path fill=\"none\" stroke=\"black\" d=\"M27.3519,-175.955C23.2087,-170.105 19.1256,-163.105 17,-156 14.7066,-148.334 15.2794,-139.848 16.9804,-132.077\"/>\r\n",
       "<polygon fill=\"black\" stroke=\"black\" points=\"20.3631,-132.977 19.7201,-122.401 13.6279,-131.07 20.3631,-132.977\"/>\r\n",
       "<text text-anchor=\"middle\" x=\"24\" y=\"-144.8\" font-family=\"Times New Roman,serif\" font-size=\"14.00\">11</text>\r\n",
       "</g>\r\n",
       "<!-- 2&#45;&gt;4 -->\r\n",
       "<g id=\"edge6\" class=\"edge\"><title>2&#45;&gt;4</title>\r\n",
       "<path fill=\"none\" stroke=\"black\" d=\"M109.369,-173.799C107.59,-162.163 105.201,-146.548 103.166,-133.237\"/>\r\n",
       "<polygon fill=\"black\" stroke=\"black\" points=\"106.599,-132.531 101.627,-123.175 99.679,-133.59 106.599,-132.531\"/>\r\n",
       "<text text-anchor=\"middle\" x=\"109.5\" y=\"-144.8\" font-family=\"Times New Roman,serif\" font-size=\"14.00\">9</text>\r\n",
       "</g>\r\n",
       "<!-- 2&#45;&gt;5 -->\r\n",
       "<g id=\"edge7\" class=\"edge\"><title>2&#45;&gt;5</title>\r\n",
       "<path fill=\"none\" stroke=\"black\" d=\"M97.5809,-176.581C84.1485,-163.148 63.9422,-142.942 48.5871,-127.587\"/>\r\n",
       "<polygon fill=\"black\" stroke=\"black\" points=\"51.0358,-125.086 41.4898,-120.49 46.086,-130.036 51.0358,-125.086\"/>\r\n",
       "<text text-anchor=\"middle\" x=\"78.5\" y=\"-144.8\" font-family=\"Times New Roman,serif\" font-size=\"14.00\">5</text>\r\n",
       "</g>\r\n",
       "<!-- 6 -->\r\n",
       "<g id=\"node7\" class=\"node\"><title>6</title>\r\n",
       "<ellipse fill=\"none\" stroke=\"blue\" cx=\"171\" cy=\"-105\" rx=\"27\" ry=\"18\"/>\r\n",
       "<text text-anchor=\"middle\" x=\"171\" y=\"-101.3\" font-family=\"Times New Roman,serif\" font-size=\"14.00\">6</text>\r\n",
       "</g>\r\n",
       "<!-- 2&#45;&gt;6 -->\r\n",
       "<g id=\"edge8\" class=\"edge\"><title>2&#45;&gt;6</title>\r\n",
       "<path fill=\"none\" stroke=\"black\" d=\"M122.822,-175.41C131.582,-162.788 144.076,-144.788 154.146,-130.281\"/>\r\n",
       "<polygon fill=\"black\" stroke=\"black\" points=\"157.22,-131.99 160.047,-121.779 151.47,-127.999 157.22,-131.99\"/>\r\n",
       "<text text-anchor=\"middle\" x=\"152\" y=\"-144.8\" font-family=\"Times New Roman,serif\" font-size=\"14.00\">16</text>\r\n",
       "</g>\r\n",
       "<!-- 3&#45;&gt;6 -->\r\n",
       "<g id=\"edge9\" class=\"edge\"><title>3&#45;&gt;6</title>\r\n",
       "<path fill=\"none\" stroke=\"blue\" d=\"M181.369,-173.799C179.59,-162.163 177.201,-146.548 175.166,-133.237\"/>\r\n",
       "<polygon fill=\"blue\" stroke=\"blue\" points=\"178.599,-132.531 173.627,-123.175 171.679,-133.59 178.599,-132.531\"/>\r\n",
       "<text text-anchor=\"middle\" x=\"181.5\" y=\"-144.8\" font-family=\"Times New Roman,serif\" font-size=\"14.00\">2</text>\r\n",
       "</g>\r\n",
       "<!-- 7 -->\r\n",
       "<g id=\"node8\" class=\"node\"><title>7</title>\r\n",
       "<ellipse fill=\"none\" stroke=\"blue\" cx=\"99\" cy=\"-18\" rx=\"27\" ry=\"18\"/>\r\n",
       "<text text-anchor=\"middle\" x=\"99\" y=\"-14.3\" font-family=\"Times New Roman,serif\" font-size=\"14.00\">7</text>\r\n",
       "</g>\r\n",
       "<!-- 4&#45;&gt;7 -->\r\n",
       "<g id=\"edge10\" class=\"edge\"><title>4&#45;&gt;7</title>\r\n",
       "<path fill=\"none\" stroke=\"black\" d=\"M99,-86.799C99,-75.1626 99,-59.5479 99,-46.2368\"/>\r\n",
       "<polygon fill=\"black\" stroke=\"black\" points=\"102.5,-46.1754 99,-36.1754 95.5001,-46.1755 102.5,-46.1754\"/>\r\n",
       "<text text-anchor=\"middle\" x=\"106\" y=\"-57.8\" font-family=\"Times New Roman,serif\" font-size=\"14.00\">18</text>\r\n",
       "</g>\r\n",
       "<!-- 5&#45;&gt;7 -->\r\n",
       "<g id=\"edge11\" class=\"edge\"><title>5&#45;&gt;7</title>\r\n",
       "<path fill=\"none\" stroke=\"black\" d=\"M39.8722,-88.8037C50.9298,-75.7495 67.0359,-56.7354 79.647,-41.8473\"/>\r\n",
       "<polygon fill=\"black\" stroke=\"black\" points=\"82.4465,-43.9574 86.2393,-34.0647 77.1051,-39.433 82.4465,-43.9574\"/>\r\n",
       "<text text-anchor=\"middle\" x=\"75\" y=\"-57.8\" font-family=\"Times New Roman,serif\" font-size=\"14.00\">13</text>\r\n",
       "</g>\r\n",
       "<!-- 6&#45;&gt;7 -->\r\n",
       "<g id=\"edge12\" class=\"edge\"><title>6&#45;&gt;7</title>\r\n",
       "<path fill=\"none\" stroke=\"blue\" d=\"M158.128,-88.8037C147.07,-75.7495 130.964,-56.7354 118.353,-41.8473\"/>\r\n",
       "<polygon fill=\"blue\" stroke=\"blue\" points=\"120.895,-39.433 111.761,-34.0647 115.554,-43.9574 120.895,-39.433\"/>\r\n",
       "<text text-anchor=\"middle\" x=\"142.5\" y=\"-57.8\" font-family=\"Times New Roman,serif\" font-size=\"14.00\">2</text>\r\n",
       "</g>\r\n",
       "</g>\r\n",
       "</svg>\r\n"
      ],
      "text/plain": [
       "<graphviz.dot.Digraph at 0x61fc7b0>"
      ]
     },
     "execution_count": 21,
     "metadata": {},
     "output_type": "execute_result"
    }
   ],
   "source": [
    "dot"
   ]
  },
  {
   "cell_type": "code",
   "execution_count": null,
   "metadata": {},
   "outputs": [],
   "source": []
  }
 ],
 "metadata": {
  "kernelspec": {
   "display_name": "Python 3",
   "language": "python",
   "name": "python3"
  },
  "language_info": {
   "codemirror_mode": {
    "name": "ipython",
    "version": 3
   },
   "file_extension": ".py",
   "mimetype": "text/x-python",
   "name": "python",
   "nbconvert_exporter": "python",
   "pygments_lexer": "ipython3",
   "version": "3.7.3"
  }
 },
 "nbformat": 4,
 "nbformat_minor": 2
}
