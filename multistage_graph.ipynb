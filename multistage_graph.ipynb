{
 "cells": [
  {
   "cell_type": "code",
   "execution_count": 5,
   "metadata": {},
   "outputs": [],
   "source": [
    "import collections as ct\n",
    "import graphviz as gv"
   ]
  },
  {
   "cell_type": "code",
   "execution_count": 6,
   "metadata": {},
   "outputs": [],
   "source": [
    "INF=999999999999\n",
    "\n",
    "def shortest_dist(graph, final_node):\n",
    "    dist=[0]*8\n",
    "    for u in reversed(sorted(graph.keys())):\n",
    "        dist[u]=INF\n",
    "        for node, weight in graph[u]:\n",
    "            print(u, '--', node, '=', weight)\n",
    "            dist[u]=min(dist[u], weight+dist[node])\n",
    "\n",
    "    return dist[0]"
   ]
  },
  {
   "cell_type": "code",
   "execution_count": 7,
   "metadata": {
    "scrolled": true
   },
   "outputs": [
    {
     "name": "stdout",
     "output_type": "stream",
     "text": [
      "6 -- 7 = 2\n",
      "5 -- 7 = 13\n",
      "4 -- 7 = 18\n",
      "3 -- 6 = 2\n",
      "2 -- 4 = 9\n",
      "2 -- 5 = 5\n",
      "2 -- 6 = 16\n",
      "1 -- 4 = 4\n",
      "1 -- 5 = 11\n",
      "0 -- 1 = 1\n",
      "0 -- 2 = 2\n",
      "0 -- 3 = 5\n",
      "9\n"
     ]
    }
   ],
   "source": [
    "graph = ct.defaultdict(list)\n",
    "\n",
    "graph[0]=[(1,1), (2,2), (3,5)]\n",
    "graph[1]=[(4,4), (5,11)]\n",
    "graph[2]=[(4,9), (5,5), (6,16)]\n",
    "graph[3]=[(6,2)]\n",
    "graph[4]=[(7,18)]\n",
    "graph[5]=[(7,13)]\n",
    "graph[6]=[(7,2)]\n",
    "\n",
    "\n",
    "print(shortest_dist(graph, graph[-1]))"
   ]
  },
  {
   "cell_type": "code",
   "execution_count": 8,
   "metadata": {},
   "outputs": [
    {
     "name": "stdout",
     "output_type": "stream",
     "text": [
      "PATH:\n",
      "0 --  3 --  6 --  7\n"
     ]
    }
   ],
   "source": [
    "INF=999999999999\n",
    "\n",
    "dist=[0]*len(graph)\n",
    "path=[0]*len(graph)\n",
    "\n",
    "for u in reversed(sorted(graph.keys())):\n",
    "    dist[u]=INF\n",
    "    for node, weight in graph[u]:\n",
    "        # print(u, '--', node, '=', weight)\n",
    "        if (dist[u] > weight+dist[node]):\n",
    "            # print('u = ', u, ' node = ', node, ' weight = ', weight, ' dist[u] = ', dist[u], ' dist[node] = ', dist[node])\n",
    "            dist[u]=weight+dist[node]\n",
    "            path[u]=node\n",
    "\n",
    "print('PATH:\\n0', end='')\n",
    "i = 0\n",
    "path_list = []\n",
    "while (i != 7):\n",
    "    i = path[i]\n",
    "    path_list.append(i)\n",
    "    print(' -- ', i, end='')\n",
    "print()"
   ]
  },
  {
   "cell_type": "code",
   "execution_count": 11,
   "metadata": {},
   "outputs": [],
   "source": [
    "dot = gv.Digraph(comment='Multistage Graph')\n",
    "cont = 0\n",
    "for nodes in graph:\n",
    "    temp = []\n",
    "    temp.append(nodes)\n",
    "    if(set(temp).intersection(path_list)):\n",
    "        dot.node(str(cont), str(cont), color='cyan')\n",
    "    else:\n",
    "        dot.node(str(cont), str(cont), color='red')\n",
    "    cont+=1\n",
    "    for u,v in graph[nodes]:\n",
    "        \n",
    "        dot.edge(str(nodes), str(u), label=str(v))"
   ]
  },
  {
   "cell_type": "code",
   "execution_count": 12,
   "metadata": {},
   "outputs": [
    {
     "name": "stdout",
     "output_type": "stream",
     "text": [
      "// Multistage Graph\n",
      "digraph {\n",
      "\t0 [label=0 color=red]\n",
      "\t0 -> 1 [label=1]\n",
      "\t0 -> 2 [label=2]\n",
      "\t0 -> 3 [label=5]\n",
      "\t1 [label=1 color=red]\n",
      "\t1 -> 4 [label=4]\n",
      "\t1 -> 5 [label=11]\n",
      "\t2 [label=2 color=red]\n",
      "\t2 -> 4 [label=9]\n",
      "\t2 -> 5 [label=5]\n",
      "\t2 -> 6 [label=16]\n",
      "\t3 [label=3 color=cyan]\n",
      "\t3 -> 6 [label=2]\n",
      "\t4 [label=4 color=red]\n",
      "\t4 -> 7 [label=18]\n",
      "\t5 [label=5 color=red]\n",
      "\t5 -> 7 [label=13]\n",
      "\t6 [label=6 color=cyan]\n",
      "\t6 -> 7 [label=2]\n",
      "\t7 [label=7 color=red]\n",
      "}\n"
     ]
    }
   ],
   "source": [
    "print(dot.source)"
   ]
  },
  {
   "cell_type": "code",
   "execution_count": null,
   "metadata": {},
   "outputs": [],
   "source": [
    "dot"
   ]
  },
  {
   "cell_type": "code",
   "execution_count": null,
   "metadata": {},
   "outputs": [],
   "source": []
  }
 ],
 "metadata": {
  "kernelspec": {
   "display_name": "Python 3",
   "language": "python",
   "name": "python3"
  },
  "language_info": {
   "codemirror_mode": {
    "name": "ipython",
    "version": 3
   },
   "file_extension": ".py",
   "mimetype": "text/x-python",
   "name": "python",
   "nbconvert_exporter": "python",
   "pygments_lexer": "ipython3",
   "version": "3.7.3"
  }
 },
 "nbformat": 4,
 "nbformat_minor": 2
}
