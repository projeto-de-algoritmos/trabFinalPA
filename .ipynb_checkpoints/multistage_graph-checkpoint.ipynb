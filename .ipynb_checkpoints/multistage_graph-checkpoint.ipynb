{
 "cells": [
  {
   "cell_type": "code",
   "execution_count": 3,
   "metadata": {},
   "outputs": [
    {
     "ename": "ImportError",
     "evalue": "No module named graphviz",
     "output_type": "error",
     "traceback": [
      "\u001b[0;31m---------------------------------------\u001b[0m",
      "\u001b[0;31mImportError\u001b[0mTraceback (most recent call last)",
      "\u001b[0;32m<ipython-input-3-ed48633e6add>\u001b[0m in \u001b[0;36m<module>\u001b[0;34m()\u001b[0m\n\u001b[1;32m      1\u001b[0m \u001b[0;32mimport\u001b[0m \u001b[0mcollections\u001b[0m \u001b[0;32mas\u001b[0m \u001b[0mct\u001b[0m\u001b[0;34m\u001b[0m\u001b[0m\n\u001b[0;32m----> 2\u001b[0;31m \u001b[0;32mimport\u001b[0m \u001b[0mgraphviz\u001b[0m \u001b[0;32mas\u001b[0m \u001b[0mgv\u001b[0m\u001b[0;34m\u001b[0m\u001b[0m\n\u001b[0m",
      "\u001b[0;31mImportError\u001b[0m: No module named graphviz"
     ]
    }
   ],
   "source": [
    "import collections as ct\n",
    "import graphviz as gv"
   ]
  },
  {
   "cell_type": "markdown",
   "metadata": {},
   "source": [
    "# Algoritmo de menor distância"
   ]
  },
  {
   "cell_type": "code",
   "execution_count": 28,
   "metadata": {},
   "outputs": [],
   "source": [
    "INF=999999999999 # valor arbitrário para infinito\n",
    "\n",
    "def shortest_dist(graph, final_node):\n",
    "    dist=[0]*len(graph) # setando vetor de distância\n",
    "    for u in reversed(sorted(graph.keys())):\n",
    "        dist[u]=INF # distância infinita caso não conhecida\n",
    "        for node, weight in graph[u]:\n",
    "            print(u, '--', node, '=', weight)\n",
    "            dist[u]=min(dist[u], weight+dist[node]) # pegamos a menor distância dentre a menor conhecida\n",
    "                                                    # e a nova explorada\n",
    "\n",
    "    return dist[0] # retornamos menor distância do início "
   ]
  },
  {
   "cell_type": "markdown",
   "metadata": {},
   "source": [
    "# Implementando lista de adjagência"
   ]
  },
  {
   "cell_type": "code",
   "execution_count": 3,
   "metadata": {
    "scrolled": true
   },
   "outputs": [
    {
     "name": "stdout",
     "output_type": "stream",
     "text": [
      "6 -- 7 = 2\n",
      "5 -- 7 = 13\n",
      "4 -- 7 = 18\n",
      "3 -- 6 = 2\n",
      "2 -- 4 = 9\n",
      "2 -- 5 = 5\n",
      "2 -- 6 = 16\n",
      "1 -- 4 = 4\n",
      "1 -- 5 = 11\n",
      "0 -- 1 = 1\n",
      "0 -- 2 = 2\n",
      "0 -- 3 = 5\n",
      "9\n"
     ]
    }
   ],
   "source": [
    "graph = ct.defaultdict(list)\n",
    "\n",
    "# implementamos a lista de adjacência por meio de vetores\n",
    "# para cada vetor temos suas conexões, primeiro valor é qual ele se conecta e segundo o peso dessa conexão\n",
    "graph[0]=[(1,1), (2,2), (3,5)]\n",
    "graph[1]=[(4,4), (5,11)]\n",
    "graph[2]=[(4,9), (5,5), (6,16)]\n",
    "graph[3]=[(6,2)]\n",
    "graph[4]=[(7,18)]\n",
    "graph[5]=[(7,13)]\n",
    "graph[6]=[(7,2)]\n",
    "\n",
    "\n",
    "print(shortest_dist(graph, graph[-1]))"
   ]
  },
  {
   "cell_type": "code",
   "execution_count": 29,
   "metadata": {},
   "outputs": [
    {
     "name": "stdout",
     "output_type": "stream",
     "text": [
      "PATH:\n",
      "0 --  3 --  6 --  7\n"
     ]
    }
   ],
   "source": [
    "INF=999999999999\n",
    "\n",
    "dist=[0]*len(graph)\n",
    "path=[0]*len(graph)\n",
    "\n",
    "for u in reversed(sorted(graph.keys())):\n",
    "    dist[u]=INF\n",
    "    for node, weight in graph[u]:\n",
    "        # print(u, '--', node, '=', weight)\n",
    "        if (dist[u] > weight+dist[node]):\n",
    "            # print('u = ', u, ' node = ', node, ' weight = ', weight, ' dist[u] = ', dist[u], ' dist[node] = ', dist[node])\n",
    "            dist[u]=weight+dist[node]\n",
    "            path[u]=node\n",
    "\n",
    "# identificar o menor caminho para plotagem\n",
    "print('PATH:\\n0', end='')\n",
    "i = 0\n",
    "path_list = []\n",
    "path_list.append(0)\n",
    "while (i != (len(path)-1)):\n",
    "    i = path[i]\n",
    "    path_list.append(i)\n",
    "    print(' -- ', i, end='')\n",
    "print()"
   ]
  },
  {
   "cell_type": "code",
   "execution_count": 30,
   "metadata": {},
   "outputs": [],
   "source": [
    "dot = gv.Digraph(comment='Multistage Graph')\n",
    "cont = 0\n",
    "for nodes in graph:\n",
    "    temp = []\n",
    "    temp.append(nodes)\n",
    "    if(set(temp).intersection(path_list)):\n",
    "        dot.node(str(cont), str(cont), color='cyan')\n",
    "    else:\n",
    "        dot.node(str(cont), str(cont), color='red')\n",
    "    cont+=1\n",
    "    for u,v in graph[nodes]:\n",
    "        \n",
    "        dot.edge(str(nodes), str(u), label=str(v))"
   ]
  },
  {
   "cell_type": "code",
   "execution_count": 31,
   "metadata": {},
   "outputs": [
    {
     "name": "stdout",
     "output_type": "stream",
     "text": [
      "// Multistage Graph\n",
      "digraph {\n",
      "\t0 [label=0 color=cyan]\n",
      "\t0 -> 1 [label=1]\n",
      "\t0 -> 2 [label=2]\n",
      "\t0 -> 3 [label=5]\n",
      "\t1 [label=1 color=red]\n",
      "\t1 -> 4 [label=4]\n",
      "\t1 -> 5 [label=11]\n",
      "\t2 [label=2 color=red]\n",
      "\t2 -> 4 [label=9]\n",
      "\t2 -> 5 [label=5]\n",
      "\t2 -> 6 [label=16]\n",
      "\t3 [label=3 color=cyan]\n",
      "\t3 -> 6 [label=2]\n",
      "\t4 [label=4 color=red]\n",
      "\t4 -> 7 [label=18]\n",
      "\t5 [label=5 color=red]\n",
      "\t5 -> 7 [label=13]\n",
      "\t6 [label=6 color=cyan]\n",
      "\t6 -> 7 [label=2]\n",
      "\t7 [label=7 color=red]\n",
      "}\n"
     ]
    }
   ],
   "source": [
    "print(dot.source)"
   ]
  },
  {
   "cell_type": "code",
   "execution_count": 1,
   "metadata": {},
   "outputs": [
    {
     "ename": "NameError",
     "evalue": "name 'dot' is not defined",
     "output_type": "error",
     "traceback": [
      "\u001b[0;31m---------------------------------------------------------------------------\u001b[0m",
      "\u001b[0;31mNameError\u001b[0m                                 Traceback (most recent call last)",
      "\u001b[0;32m<ipython-input-1-414a27b1bc30>\u001b[0m in \u001b[0;36m<module>\u001b[0;34m()\u001b[0m\n\u001b[0;32m----> 1\u001b[0;31m \u001b[0mdot\u001b[0m\u001b[0;34m\u001b[0m\u001b[0m\n\u001b[0m",
      "\u001b[0;31mNameError\u001b[0m: name 'dot' is not defined"
     ]
    }
   ],
   "source": [
    "dot"
   ]
  },
  {
   "cell_type": "code",
   "execution_count": null,
   "metadata": {},
   "outputs": [],
   "source": []
  },
  {
   "cell_type": "code",
   "execution_count": null,
   "metadata": {},
   "outputs": [],
   "source": []
  }
 ],
 "metadata": {
  "kernelspec": {
   "display_name": "Python 3",
   "language": "python",
   "name": "python3"
  },
  "language_info": {
   "codemirror_mode": {
    "name": "ipython",
    "version": 2
   },
   "file_extension": ".py",
   "mimetype": "text/x-python",
   "name": "python",
   "nbconvert_exporter": "python",
   "pygments_lexer": "ipython2",
   "version": "2.7.13"
  }
 },
 "nbformat": 4,
 "nbformat_minor": 2
}
